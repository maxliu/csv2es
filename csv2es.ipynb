{
 "cells": [
  {
   "cell_type": "code",
   "execution_count": 1,
   "metadata": {
    "collapsed": true
   },
   "outputs": [],
   "source": [
    "# xinyulrsm@gmail.com\n",
    "# 07/10/2017\n",
    "\n",
    "# example for transfer data from csv to elasticsearch\n"
   ]
  },
  {
   "cell_type": "code",
   "execution_count": 2,
   "metadata": {
    "collapsed": false
   },
   "outputs": [],
   "source": [
    "from datetime import datetime\n",
    "import csv\n",
    "import requests\n",
    "\n",
    "from elasticsearch import Elasticsearch\n",
    "from elasticsearch import helpers\n"
   ]
  },
  {
   "cell_type": "code",
   "execution_count": 14,
   "metadata": {
    "collapsed": true
   },
   "outputs": [],
   "source": [
    "host = '192.168.0.108'\n",
    "port = 9200"
   ]
  },
  {
   "cell_type": "code",
   "execution_count": 15,
   "metadata": {
    "collapsed": true
   },
   "outputs": [],
   "source": [
    "es = Elasticsearch([{'host': host, 'port': port}])"
   ]
  },
  {
   "cell_type": "code",
   "execution_count": 16,
   "metadata": {
    "collapsed": false
   },
   "outputs": [
    {
     "name": "stdout",
     "output_type": "stream",
     "text": [
      "{\n",
      "  \"name\" : \"QVsQbmk\",\n",
      "  \"cluster_name\" : \"elasticsearch\",\n",
      "  \"cluster_uuid\" : \"uOt4FgHwTPidZ2RtSnmR7A\",\n",
      "  \"version\" : {\n",
      "    \"number\" : \"5.5.0\",\n",
      "    \"build_hash\" : \"260387d\",\n",
      "    \"build_date\" : \"2017-06-30T23:16:05.735Z\",\n",
      "    \"build_snapshot\" : false,\n",
      "    \"lucene_version\" : \"6.6.0\"\n",
      "  },\n",
      "  \"tagline\" : \"You Know, for Search\"\n",
      "}\n",
      "\n"
     ]
    }
   ],
   "source": [
    "# testing if ES work\n",
    "\n",
    "res = requests.get('http://{}:{}'.format(host,port))\n",
    "print(res.content)"
   ]
  },
  {
   "cell_type": "markdown",
   "metadata": {},
   "source": [
    "### CSV to ES"
   ]
  },
  {
   "cell_type": "code",
   "execution_count": 5,
   "metadata": {
    "collapsed": true
   },
   "outputs": [],
   "source": [
    "csv_file = './data.csv'\n",
    "index_name = 'peopleindex_b'\n",
    "type_name = 'people'"
   ]
  },
  {
   "cell_type": "code",
   "execution_count": 6,
   "metadata": {
    "collapsed": false
   },
   "outputs": [
    {
     "name": "stdout",
     "output_type": "stream",
     "text": [
      "<_csv.reader object at 0x7fefcc8bcc90>\n"
     ]
    }
   ],
   "source": [
    "actions = []\n",
    "\n",
    "with open(csv_file, 'rb') as csvfile:\n",
    "    spamreader = csv.reader(csvfile, delimiter=',', quotechar='|')\n",
    "    print spamreader\n",
    "    for i, row in enumerate(spamreader):\n",
    "        if i == 0:\n",
    "            header = row\n",
    "        else :\n",
    "            doc = dict(zip(header,row))\n",
    "\n",
    "            action = {\n",
    "                \"_index\": index_name,\n",
    "                \"_type\": type_name,\n",
    "                \"_id\": i,\n",
    "                \"_source\": doc\n",
    "                }\n",
    "            actions.append(action)\n",
    "            ## for single index, will be slow for big dataset\n",
    "            ## es.index(index='sw', doc_type='people', id=i, body=doc)\n",
    "\n"
   ]
  },
  {
   "cell_type": "markdown",
   "metadata": {},
   "source": [
    "### bulk insert"
   ]
  },
  {
   "cell_type": "code",
   "execution_count": 7,
   "metadata": {
    "collapsed": false
   },
   "outputs": [],
   "source": [
    "\n",
    "if len(actions) > 0:\n",
    "    helpers.bulk(es, actions)\n",
    "    "
   ]
  },
  {
   "cell_type": "markdown",
   "metadata": {},
   "source": [
    "### check by es.get"
   ]
  },
  {
   "cell_type": "code",
   "execution_count": 8,
   "metadata": {
    "collapsed": false
   },
   "outputs": [
    {
     "data": {
      "text/plain": [
       "{u'_id': u'1',\n",
       " u'_index': u'peopleindex_b',\n",
       " u'_source': {u'age': u'30', u'id': u'1', u'name': u'max'},\n",
       " u'_type': u'people',\n",
       " u'_version': 2,\n",
       " u'found': True}"
      ]
     },
     "execution_count": 8,
     "metadata": {},
     "output_type": "execute_result"
    }
   ],
   "source": [
    "es.get(index=index_name, doc_type=type_name, id=1)"
   ]
  },
  {
   "cell_type": "markdown",
   "metadata": {},
   "source": [
    "### check by request"
   ]
  },
  {
   "cell_type": "code",
   "execution_count": 17,
   "metadata": {
    "collapsed": false
   },
   "outputs": [
    {
     "name": "stdout",
     "output_type": "stream",
     "text": [
      "{\"_index\":\"peopleindex_b\",\"_type\":\"people\",\"_id\":\"1\",\"_version\":2,\"found\":true,\"_source\":{\"age\": \"30\", \"id\": \"1\", \"name\": \"max\"}}\n"
     ]
    }
   ],
   "source": [
    "res = requests.get('http://192.168.0.108:9200/' +index_name + '/' + type_name + '/1')\n",
    "print(res.content)"
   ]
  },
  {
   "cell_type": "markdown",
   "metadata": {},
   "source": [
    "### check by es.search"
   ]
  },
  {
   "cell_type": "code",
   "execution_count": 20,
   "metadata": {
    "collapsed": false
   },
   "outputs": [
    {
     "data": {
      "text/plain": [
       "{u'_shards': {u'failed': 0, u'successful': 5, u'total': 5},\n",
       " u'hits': {u'hits': [{u'_id': u'1',\n",
       "    u'_index': u'peopleindex_b',\n",
       "    u'_score': 0.2876821,\n",
       "    u'_source': {u'age': u'30', u'id': u'1', u'name': u'max'},\n",
       "    u'_type': u'people'}],\n",
       "  u'max_score': 0.2876821,\n",
       "  u'total': 1},\n",
       " u'timed_out': False,\n",
       " u'took': 3}"
      ]
     },
     "execution_count": 20,
     "metadata": {},
     "output_type": "execute_result"
    }
   ],
   "source": [
    "res = es.search(\n",
    "    index= index_name,\n",
    "    doc_type=type_name,\n",
    "    body={\n",
    "      'query': {\n",
    "        'match': {\n",
    "          'name': 'max'\n",
    "        }\n",
    "      }\n",
    "    }\n",
    ")\n",
    "\n",
    "res"
   ]
  },
  {
   "cell_type": "code",
   "execution_count": 12,
   "metadata": {
    "collapsed": true
   },
   "outputs": [],
   "source": [
    "# end"
   ]
  }
 ],
 "metadata": {
  "kernelspec": {
   "display_name": "Python 2",
   "language": "python",
   "name": "python2"
  },
  "language_info": {
   "codemirror_mode": {
    "name": "ipython",
    "version": 2
   },
   "file_extension": ".py",
   "mimetype": "text/x-python",
   "name": "python",
   "nbconvert_exporter": "python",
   "pygments_lexer": "ipython2",
   "version": "2.7.13"
  }
 },
 "nbformat": 4,
 "nbformat_minor": 2
}
